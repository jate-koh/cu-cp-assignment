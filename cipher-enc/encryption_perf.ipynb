{
  "nbformat": 4,
  "nbformat_minor": 0,
  "metadata": {
    "colab": {
      "provenance": []
    },
    "kernelspec": {
      "name": "python3",
      "display_name": "Python 3"
    },
    "language_info": {
      "name": "python"
    }
  },
  "cells": [
    {
      "cell_type": "markdown",
      "source": [
        "# Encryption Protocol Performance"
      ],
      "metadata": {
        "id": "xQkfdMYSHTx2"
      }
    },
    {
      "cell_type": "markdown",
      "source": [
        "## Install Dependencies"
      ],
      "metadata": {
        "id": "Rtge7dQpHZLQ"
      }
    },
    {
      "cell_type": "code",
      "source": [
        "!apt update\n",
        "\n",
        "# Install OpenSSL\n",
        "!apt install -y openssl"
      ],
      "metadata": {
        "colab": {
          "base_uri": "https://localhost:8080/"
        },
        "id": "L2KluL5rIA9e",
        "outputId": "a022cafd-7c9e-4f5a-9360-b5fed5d22dfd"
      },
      "execution_count": null,
      "outputs": [
        {
          "output_type": "stream",
          "name": "stdout",
          "text": [
            "Get:1 https://cloud.r-project.org/bin/linux/ubuntu jammy-cran40/ InRelease [3,626 B]\n",
            "Get:2 http://security.ubuntu.com/ubuntu jammy-security InRelease [129 kB]\n",
            "Ign:3 https://r2u.stat.illinois.edu/ubuntu jammy InRelease\n",
            "Get:4 https://developer.download.nvidia.com/compute/cuda/repos/ubuntu2204/x86_64  InRelease [1,581 B]\n",
            "Hit:5 http://archive.ubuntu.com/ubuntu jammy InRelease\n",
            "Get:6 https://r2u.stat.illinois.edu/ubuntu jammy Release [5,713 B]\n",
            "Get:7 https://r2u.stat.illinois.edu/ubuntu jammy Release.gpg [793 B]\n",
            "Get:8 http://archive.ubuntu.com/ubuntu jammy-updates InRelease [128 kB]\n",
            "Get:9 https://developer.download.nvidia.com/compute/cuda/repos/ubuntu2204/x86_64  Packages [976 kB]\n",
            "Get:10 https://ppa.launchpadcontent.net/deadsnakes/ppa/ubuntu jammy InRelease [18.1 kB]\n",
            "Hit:11 http://archive.ubuntu.com/ubuntu jammy-backports InRelease\n",
            "Hit:12 https://ppa.launchpadcontent.net/graphics-drivers/ppa/ubuntu jammy InRelease\n",
            "Hit:13 https://ppa.launchpadcontent.net/ubuntugis/ppa/ubuntu jammy InRelease\n",
            "Get:14 https://r2u.stat.illinois.edu/ubuntu jammy/main amd64 Packages [2,570 kB]\n",
            "Get:15 http://security.ubuntu.com/ubuntu jammy-security/main amd64 Packages [2,224 kB]\n",
            "Get:16 https://r2u.stat.illinois.edu/ubuntu jammy/main all Packages [8,288 kB]\n",
            "Get:17 http://archive.ubuntu.com/ubuntu jammy-updates/main amd64 Packages [2,499 kB]\n",
            "Get:18 http://security.ubuntu.com/ubuntu jammy-security/universe amd64 Packages [1,149 kB]\n",
            "Get:19 http://archive.ubuntu.com/ubuntu jammy-updates/universe amd64 Packages [1,438 kB]\n",
            "Get:20 https://ppa.launchpadcontent.net/deadsnakes/ppa/ubuntu jammy/main amd64 Packages [27.8 kB]\n",
            "Fetched 19.5 MB in 4s (5,400 kB/s)\n",
            "Reading package lists... Done\n",
            "Building dependency tree... Done\n",
            "Reading state information... Done\n",
            "56 packages can be upgraded. Run 'apt list --upgradable' to see them.\n",
            "\u001b[1;33mW: \u001b[0mSkipping acquire of configured file 'main/source/Sources' as repository 'https://r2u.stat.illinois.edu/ubuntu jammy InRelease' does not seem to provide it (sources.list entry misspelt?)\u001b[0m\n",
            "Reading package lists... Done\n",
            "Building dependency tree... Done\n",
            "Reading state information... Done\n",
            "The following packages will be upgraded:\n",
            "  openssl\n",
            "1 upgraded, 0 newly installed, 0 to remove and 55 not upgraded.\n",
            "Need to get 1,184 kB of archives.\n",
            "After this operation, 0 B of additional disk space will be used.\n",
            "Get:1 http://archive.ubuntu.com/ubuntu jammy-updates/main amd64 openssl amd64 3.0.2-0ubuntu1.18 [1,184 kB]\n",
            "Fetched 1,184 kB in 7s (174 kB/s)\n",
            "(Reading database ... 123597 files and directories currently installed.)\n",
            "Preparing to unpack .../openssl_3.0.2-0ubuntu1.18_amd64.deb ...\n",
            "Unpacking openssl (3.0.2-0ubuntu1.18) over (3.0.2-0ubuntu1.12) ...\n",
            "Setting up openssl (3.0.2-0ubuntu1.18) ...\n",
            "Processing triggers for man-db (2.10.2-1) ...\n"
          ]
        }
      ]
    },
    {
      "cell_type": "code",
      "source": [
        "!openssl version"
      ],
      "metadata": {
        "colab": {
          "base_uri": "https://localhost:8080/"
        },
        "id": "La49HyHwI8a-",
        "outputId": "0c79e279-7cc4-4395-aeaf-09e33aa009c1"
      },
      "execution_count": null,
      "outputs": [
        {
          "output_type": "stream",
          "name": "stdout",
          "text": [
            "OpenSSL 3.0.2 15 Mar 2022 (Library: OpenSSL 3.0.2 15 Mar 2022)\n"
          ]
        }
      ]
    },
    {
      "cell_type": "markdown",
      "source": [
        "## Performance Test of OpenSSL's Algorithms"
      ],
      "metadata": {
        "id": "Rv1_f79sIiTe"
      }
    },
    {
      "cell_type": "code",
      "source": [
        "# List all SHA1 algorithm\n",
        "!openssl list -cipher-algorithms | grep rc\n",
        "!openssl list -cipher-algorithms | grep sha1\n",
        "!openssl list -cipher-algorithms | grep bf\n",
        "!openssl list -cipher-algorithms | grep dsa"
      ],
      "metadata": {
        "colab": {
          "base_uri": "https://localhost:8080/"
        },
        "id": "ghtaZEd7ImFX",
        "outputId": "789b704e-c537-4ba5-ee84-592c6e7650b7"
      },
      "execution_count": 22,
      "outputs": [
        {
          "output_type": "stream",
          "name": "stdout",
          "text": [
            "  rc2 => RC2-CBC\n",
            "  rc2-128 => RC2-CBC\n",
            "  rc2-40 => RC2-40-CBC\n",
            "  rc2-64 => RC2-64-CBC\n",
            "  bf => BF-CBC\n"
          ]
        }
      ]
    },
    {
      "cell_type": "markdown",
      "source": [
        "## SHA1"
      ],
      "metadata": {
        "id": "EQioSdCvtvPq"
      }
    },
    {
      "cell_type": "code",
      "source": [
        "# Read first few characters of plaintext file\n",
        "!head -c 100 plaintext1.txt"
      ],
      "metadata": {
        "colab": {
          "base_uri": "https://localhost:8080/"
        },
        "id": "QoqWuYWCzfHE",
        "outputId": "257e5e47-b6ba-4047-b23b-41123046e068"
      },
      "execution_count": 33,
      "outputs": [
        {
          "output_type": "stream",
          "name": "stdout",
          "text": [
            "Gykyfjb14EhdCvaFU0wx3KYuynfc7MbpPUqnF5cf17ACDFbx0P0cRK1H6H9fRhWFXTJiGbE1QKa57QeU13JKHY1ZaHWWqW4WfS1D"
          ]
        }
      ]
    },
    {
      "cell_type": "code",
      "source": [
        "# Get file size\n",
        "!ls -lh *.txt"
      ],
      "metadata": {
        "colab": {
          "base_uri": "https://localhost:8080/"
        },
        "id": "gF85EANEv1bv",
        "outputId": "f0ee3fe7-0d38-4bd6-849e-17e501d09249"
      },
      "execution_count": 15,
      "outputs": [
        {
          "output_type": "stream",
          "name": "stdout",
          "text": [
            "-rw-r--r-- 1 root root 977K Sep 10 07:03 plaintext1.txt\n"
          ]
        }
      ]
    },
    {
      "cell_type": "code",
      "source": [
        "# Measure speed of sha1 using OpenSSL encryption speed\n",
        "!time openssl dgst -sha1 plaintext1.txt"
      ],
      "metadata": {
        "colab": {
          "base_uri": "https://localhost:8080/"
        },
        "id": "ewR847QfIGao",
        "outputId": "b800a42e-58e3-4212-a0b2-08e001f531bb"
      },
      "execution_count": 16,
      "outputs": [
        {
          "output_type": "stream",
          "name": "stdout",
          "text": [
            "SHA1(plaintext1.txt)= 93e0301be1cda84eb9143a1d50ede885992230fd\n",
            "\n",
            "real\t0m0.020s\n",
            "user\t0m0.005s\n",
            "sys\t0m0.005s\n"
          ]
        }
      ]
    },
    {
      "cell_type": "markdown",
      "source": [
        "## RC4"
      ],
      "metadata": {
        "id": "t1mX0dvwwscb"
      }
    },
    {
      "cell_type": "code",
      "source": [
        "# Measure speed of rc4 using OpenSSL encryption speed\n",
        "!time openssl enc -rc4 -in plaintext1.txt -out ciphertext.bin -K \"00112233445566778899AABBCCDDEEFF\" -nosalt -nopad -provider legacy"
      ],
      "metadata": {
        "colab": {
          "base_uri": "https://localhost:8080/"
        },
        "id": "ZfkP8U_tKQTl",
        "outputId": "c7c20091-7770-43e4-8105-a5d4b231b2e4"
      },
      "execution_count": 25,
      "outputs": [
        {
          "output_type": "stream",
          "name": "stdout",
          "text": [
            "\n",
            "real\t0m0.013s\n",
            "user\t0m0.008s\n",
            "sys\t0m0.005s\n"
          ]
        }
      ]
    },
    {
      "cell_type": "code",
      "source": [
        "# Measure speed of rc4 using OpenSSL decryption speed\n",
        "!time openssl enc -rc4 -d -in ciphertext.bin -out decryptedtext1.txt -K \"00112233445566778899AABBCCDDEEFF\" -nosalt -nopad -provider legacy"
      ],
      "metadata": {
        "colab": {
          "base_uri": "https://localhost:8080/"
        },
        "id": "DFeGfmykxaUY",
        "outputId": "2e5d0045-5466-4fc6-dbe5-887a98fa03b9"
      },
      "execution_count": 26,
      "outputs": [
        {
          "output_type": "stream",
          "name": "stdout",
          "text": [
            "\n",
            "real\t0m0.014s\n",
            "user\t0m0.007s\n",
            "sys\t0m0.006s\n"
          ]
        }
      ]
    },
    {
      "cell_type": "markdown",
      "source": [
        "## Blowfish"
      ],
      "metadata": {
        "id": "sBkg-sfwxxZi"
      }
    },
    {
      "cell_type": "code",
      "source": [
        "# Measure speed of rc4 using OpenSSL encryption speed\n",
        "!time openssl enc -bf-cbc -in plaintext1.txt -out ciphertext.bin -K \"00112233445566778899AABBCCDDEEFF\" -iv \"0102030405060708\" -nosalt -nopad -provider legacy"
      ],
      "metadata": {
        "colab": {
          "base_uri": "https://localhost:8080/"
        },
        "id": "17EMngr4SAKJ",
        "outputId": "aca7044f-a912-4c37-c9e2-4cd5f7279dca"
      },
      "execution_count": 27,
      "outputs": [
        {
          "output_type": "stream",
          "name": "stdout",
          "text": [
            "\n",
            "real\t0m0.020s\n",
            "user\t0m0.016s\n",
            "sys\t0m0.004s\n"
          ]
        }
      ]
    },
    {
      "cell_type": "code",
      "source": [
        "# Measure speed of rc4 using OpenSSL decryption speed\n",
        "!time openssl enc -bf-cbc -d -in ciphertext.bin -out decryptedtext1.txt -K \"00112233445566778899AABBCCDDEEFF\" -iv \"0102030405060708\" -nosalt -nopad -provider legacy"
      ],
      "metadata": {
        "colab": {
          "base_uri": "https://localhost:8080/"
        },
        "id": "bo9me27_yQcU",
        "outputId": "3d70c8d4-e3ed-46bd-d044-2fdac76af36a"
      },
      "execution_count": 28,
      "outputs": [
        {
          "output_type": "stream",
          "name": "stdout",
          "text": [
            "\n",
            "real\t0m0.023s\n",
            "user\t0m0.012s\n",
            "sys\t0m0.010s\n"
          ]
        }
      ]
    },
    {
      "cell_type": "markdown",
      "source": [
        "## DSA"
      ],
      "metadata": {
        "id": "Xy99lTtHysco"
      }
    },
    {
      "cell_type": "code",
      "source": [
        "# Generate DSA Param\n",
        "!time openssl dsaparam -out dsaparam.pem 2048"
      ],
      "metadata": {
        "colab": {
          "base_uri": "https://localhost:8080/"
        },
        "id": "MQBWVefxUr3e",
        "outputId": "9173bc51-6236-42a3-b380-c74feeafa33f"
      },
      "execution_count": 34,
      "outputs": [
        {
          "output_type": "stream",
          "name": "stdout",
          "text": [
            "\n",
            "real\t0m1.312s\n",
            "user\t0m1.234s\n",
            "sys\t0m0.006s\n"
          ]
        }
      ]
    },
    {
      "cell_type": "code",
      "source": [
        "# Generate Private Key\n",
        "!time openssl gendsa -out privatekey.pem dsaparam.pem"
      ],
      "metadata": {
        "colab": {
          "base_uri": "https://localhost:8080/"
        },
        "id": "CcZtYAJ_zscV",
        "outputId": "d9799e0c-65a3-48fe-e151-e0eae5a0a61d"
      },
      "execution_count": 45,
      "outputs": [
        {
          "output_type": "stream",
          "name": "stdout",
          "text": [
            "\n",
            "real\t0m0.012s\n",
            "user\t0m0.009s\n",
            "sys\t0m0.002s\n"
          ]
        }
      ]
    },
    {
      "cell_type": "code",
      "source": [
        "# Extract Public Key\n",
        "!time openssl dsa -in privatekey.pem -pubout -out publickey.pem"
      ],
      "metadata": {
        "colab": {
          "base_uri": "https://localhost:8080/"
        },
        "id": "tqRRLcft0JUJ",
        "outputId": "8d356a3d-543f-400c-8834-d0d99bc13eeb"
      },
      "execution_count": 46,
      "outputs": [
        {
          "output_type": "stream",
          "name": "stdout",
          "text": [
            "read DSA key\n",
            "writing DSA key\n",
            "\n",
            "real\t0m0.018s\n",
            "user\t0m0.010s\n",
            "sys\t0m0.002s\n"
          ]
        }
      ]
    },
    {
      "cell_type": "code",
      "source": [
        "# Sign file\n",
        "!time openssl dgst -sha256 -sign privatekey.pem -out signature.bin plaintext1.txt"
      ],
      "metadata": {
        "colab": {
          "base_uri": "https://localhost:8080/"
        },
        "id": "f2ZmirxO0oqG",
        "outputId": "0d7ea8e9-32fe-4435-8251-1be175358a4c"
      },
      "execution_count": 47,
      "outputs": [
        {
          "output_type": "stream",
          "name": "stdout",
          "text": [
            "\n",
            "real\t0m0.016s\n",
            "user\t0m0.008s\n",
            "sys\t0m0.006s\n"
          ]
        }
      ]
    },
    {
      "cell_type": "code",
      "source": [
        "# Verifying signature\n",
        "!time openssl dgst -sha256 -verify publickey.pem -signature signature.bin plaintext1.txt"
      ],
      "metadata": {
        "colab": {
          "base_uri": "https://localhost:8080/"
        },
        "id": "wqO60lvK00o_",
        "outputId": "9d45f6ca-2706-4ed8-8818-b81e8fc62db1"
      },
      "execution_count": 48,
      "outputs": [
        {
          "output_type": "stream",
          "name": "stdout",
          "text": [
            "Verified OK\n",
            "\n",
            "real\t0m0.014s\n",
            "user\t0m0.008s\n",
            "sys\t0m0.004s\n"
          ]
        }
      ]
    }
  ]
}